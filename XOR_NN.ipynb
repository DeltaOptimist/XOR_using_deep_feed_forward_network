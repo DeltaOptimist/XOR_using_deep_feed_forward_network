{
  "nbformat": 4,
  "nbformat_minor": 0,
  "metadata": {
    "colab": {
      "name": "XOR_NN.ipynb",
      "provenance": []
    },
    "kernelspec": {
      "name": "python3",
      "display_name": "Python 3"
    },
    "language_info": {
      "name": "python"
    }
  },
  "cells": [
    {
      "cell_type": "markdown",
      "metadata": {
        "id": "MRFN0Nsa5aYM"
      },
      "source": [
        "**Solving XOR problem using deep feed forward network**"
      ]
    },
    {
      "cell_type": "code",
      "metadata": {
        "id": "wCRWMe912Dlh"
      },
      "source": [
        "# importing Python library \n",
        "import numpy as np "
      ],
      "execution_count": 28,
      "outputs": []
    },
    {
      "cell_type": "code",
      "metadata": {
        "id": "KcV_nSuw2g2v"
      },
      "source": [
        "# define Unit Step Function \n",
        "def unitStep(v): \n",
        "    if v >= 0: \n",
        "        return 1\n",
        "    else: \n",
        "        return 0"
      ],
      "execution_count": 29,
      "outputs": []
    },
    {
      "cell_type": "code",
      "metadata": {
        "id": "bnnACtn129tj"
      },
      "source": [
        "# design Perceptron Model \n",
        "def perceptronModel(x, w, b): \n",
        "    v = np.dot(w, x) + b \n",
        "    y = unitStep(v) \n",
        "    return y "
      ],
      "execution_count": 30,
      "outputs": []
    },
    {
      "cell_type": "code",
      "metadata": {
        "id": "hbivmJuP3CLn"
      },
      "source": [
        "# NOT Logic Function \n",
        "# wNOT = -1, bNOT = 0.5 \n",
        "\n",
        "def NOT_logicFunction(x): \n",
        "    wNOT = -1\n",
        "    bNOT = 0.5\n",
        "    return perceptronModel(x, wNOT, bNOT) "
      ],
      "execution_count": 31,
      "outputs": []
    },
    {
      "cell_type": "code",
      "metadata": {
        "id": "-uO81eDQ3GUl"
      },
      "source": [
        "# AND Logic Function \n",
        "# here w1 = wAND1 = 1,  \n",
        "# w2 = wAND2 = 1, bAND = -1.5 \n",
        "\n",
        "def AND_logicFunction(x): \n",
        "    w = np.array([1, 1]) \n",
        "    bAND = -1.5\n",
        "    return perceptronModel(x, w, bAND) "
      ],
      "execution_count": 32,
      "outputs": []
    },
    {
      "cell_type": "code",
      "metadata": {
        "id": "b0itQspS3KAP"
      },
      "source": [
        "# OR Logic Function \n",
        "# w1 = 1, w2 = 1, bOR = -0.5 \n",
        "\n",
        "def OR_logicFunction(x): \n",
        "    w = np.array([1, 1]) \n",
        "    bOR = -0.5\n",
        "    return perceptronModel(x, w, bOR)"
      ],
      "execution_count": 33,
      "outputs": []
    },
    {
      "cell_type": "code",
      "metadata": {
        "id": "gZQ0wfte3OPQ"
      },
      "source": [
        "# XOR Logic Function \n",
        "# with AND, OR and NOT   \n",
        "# function calls in sequence \n",
        "def XOR_logicFunction(x):\n",
        "  y1 = AND_logicFunction(x)\n",
        "  y2 = OR_logicFunction(x)\n",
        "  y3 = NOT_logicFunction(y1)\n",
        "  final_x = np.array([y2, y3])\n",
        "  finalOutput = AND_logicFunction(final_x)\n",
        "  y3 = NOT_logicFunction(y1)\n",
        "  return finalOutput"
      ],
      "execution_count": 34,
      "outputs": []
    },
    {
      "cell_type": "code",
      "metadata": {
        "colab": {
          "base_uri": "https://localhost:8080/"
        },
        "id": "aQ2tBtcn3gdw",
        "outputId": "c9e0bdc2-80e0-4b57-a0f2-d949e3c231f5"
      },
      "source": [
        "# testing the Perceptron Model \n",
        "test1 = np.array([0, 1]) \n",
        "test2 = np.array([1, 1]) \n",
        "test3 = np.array([0, 0]) \n",
        "test4 = np.array([1, 0])\n",
        "\n",
        "\n",
        "print(\"XOR({}, {}) = {}\".format(0, 1, XOR_logicFunction(test1)))\n",
        "print(\"XOR({}, {}) = {}\".format(1, 1, XOR_logicFunction(test2)))\n",
        "print(\"XOR({}, {}) = {}\".format(0, 0, XOR_logicFunction(test3)))\n",
        "print(\"XOR({}, {}) = {}\".format(1, 0, XOR_logicFunction(test4)))"
      ],
      "execution_count": 35,
      "outputs": [
        {
          "output_type": "stream",
          "text": [
            "XOR(0, 1) = 1\n",
            "XOR(1, 1) = 0\n",
            "XOR(0, 0) = 0\n",
            "XOR(1, 0) = 1\n"
          ],
          "name": "stdout"
        }
      ]
    }
  ]
}